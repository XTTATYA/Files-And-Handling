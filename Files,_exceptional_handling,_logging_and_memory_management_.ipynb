{
  "nbformat": 4,
  "nbformat_minor": 0,
  "metadata": {
    "colab": {
      "provenance": []
    },
    "kernelspec": {
      "name": "python3",
      "display_name": "Python 3"
    },
    "language_info": {
      "name": "python"
    }
  },
  "cells": [
    {
      "cell_type": "code",
      "execution_count": null,
      "metadata": {
        "id": "9cSP22S42i3g"
      },
      "outputs": [],
      "source": [
        "#ASSIGNEMENT-FILE,EXCEPTION HANDLING ETC\n",
        "#THEORY QUESTIONS:-"
      ]
    },
    {
      "cell_type": "code",
      "source": [
        "#Q1) What is the difference between interpreted and compiled languages?\n",
        "\"\"\" Ans\n",
        "Interpreted language\n",
        "\n",
        "An interpreted language are languages which translate source code to machine code and execute them line by line, one at a time.\n",
        "*Python is an interpreted language which uses interpreter for execution\n",
        "*It translate the language of source code and execute them line by line instead of whole.\n",
        "*It executes and translates line by line prior to running of program\n",
        "*It has lower speed unlike compiled program.\n",
        "\n",
        "Compiled language\n",
        "\n",
        "An compiled language are languages which translate source code to machine code directly at once from CPU.\n",
        "*C,C++ etc are compiled language which uses compiler for execution\n",
        "*It translate the language of source code and execute them at once directly at once.\n",
        "*It executes and translates prior to execution.\n",
        "*It has high execution speed.\"\"\""
      ],
      "metadata": {
        "id": "BObSyUO-2wRg"
      },
      "execution_count": null,
      "outputs": []
    },
    {
      "cell_type": "code",
      "source": [
        "#Q2) What is exception handling in Python?\n",
        "\"\"\"Ans\n",
        "Exception is an unlikely event which occurs during execution which disrupts the flow of the program.\n",
        "Exception handling is the process of handling such exceptions by using various methods in python.\"\"\"\n"
      ],
      "metadata": {
        "id": "WORvQsF73gPY"
      },
      "execution_count": null,
      "outputs": []
    },
    {
      "cell_type": "code",
      "source": [
        "#Q3) What is the purpose of the finally block in exception handling?\n",
        "\"\"\"Ans\n",
        "This finally block statement is used along with the try block statement.\n",
        "It helps indicate python to excute statements in finally block even if the try block generates an error.\"\"\""
      ],
      "metadata": {
        "id": "3-qk1lbP4Avn"
      },
      "execution_count": null,
      "outputs": []
    },
    {
      "cell_type": "code",
      "source": [
        "#Q4) What is logging in Python?\n",
        "\"\"\"Ans\n",
        "Logging can be defined as a process in which we keep records of every single modification/information regarding the code.\n",
        "Logging helps records the state and flow of your program/code/software. It helps in debugging and display how the code behaves over time.\"\"\""
      ],
      "metadata": {
        "id": "ACahBEe84Yw2"
      },
      "execution_count": null,
      "outputs": []
    },
    {
      "cell_type": "code",
      "source": [
        "#Q5) What is the significance of the del method in Python?\n",
        "\"\"\"Ans\n",
        "del() is a special/dunder method in python.It is also called as destructor and is used to delete a method or an object.\n",
        "It helps in cleaning up and making the code look clean.its written syztax is def__del__(self):.\"\"\"\n"
      ],
      "metadata": {
        "id": "tN9AoC656gxG"
      },
      "execution_count": null,
      "outputs": []
    },
    {
      "cell_type": "code",
      "source": [
        "#Q6) What is the difference between import and from ... import in Python?\n",
        "\"\"\"Ans\n",
        "import is a keyword which is used in python to import an entire library. A library is a pre written code which is used to perfrom a task.\n",
        " It is also a collection of packages(a group of modules).\n",
        "\n",
        "import...from is used to import only specific methods from a library.\"\"\""
      ],
      "metadata": {
        "id": "Aj06U_uv65EG"
      },
      "execution_count": null,
      "outputs": []
    },
    {
      "cell_type": "code",
      "source": [
        "#Q7) How can you handle multiple exceptions in Python?\n",
        "\"\"\"Ans\n",
        "Multiple exceptions can be handled in python using the try-except statement. We can catch specified errors using the except block which is the ideal way to handle exceptions.\n",
        "We can feed multiple exceptions within the except block by placing error value in form of tuple.\"\"\""
      ],
      "metadata": {
        "id": "eW2A8-Bp7VWv"
      },
      "execution_count": null,
      "outputs": []
    },
    {
      "cell_type": "code",
      "source": [
        "#Q8) What is the purpose of the with statement when handling files in Python?\n",
        "\"\"\"Ans\n",
        " with statement is used in python to ensure a file is closed after the execution of the code.\n",
        " It plays a major role as the closing of file as it is a key role in file handling.\"\"\"\n",
        "\n"
      ],
      "metadata": {
        "id": "8ri9xNXP8Apl"
      },
      "execution_count": null,
      "outputs": []
    },
    {
      "cell_type": "code",
      "source": [
        "#Q9) What is the difference between multithreading and multiprocessing?\n",
        "\"\"\"Ans\n",
        "Multithreading\n",
        "Multithreading is the process on which one or more process on which one or more threads run parallelly on a single process while using a common memory space.\n",
        "Multiprocessing\n",
        "A concept in which more than one process are occuring on diffrent processors.It means that a process is assigned a processor for functioning.\n",
        "It helps achiveve parallel processing.Although each process will have its own memory space.\"\"\""
      ],
      "metadata": {
        "id": "Gxu6lH4h8gfH"
      },
      "execution_count": null,
      "outputs": []
    },
    {
      "cell_type": "code",
      "source": [
        "#Q10) What are the advantages of using logging in a program?\n",
        "\"\"\"Ans\n",
        "Logging:-\n",
        "Logging helps in debugging process.\n",
        "*It helps us to understand and monitor our code.\n",
        "*It shows how program behaves overtime.\n",
        "*It helps us record the state and flow of program.\n",
        "*It is like a dairy which keeps all data from beggining.\n",
        "*It has different levels of logging based on severity.\"\"\""
      ],
      "metadata": {
        "id": "wEw8uUs788bN"
      },
      "execution_count": null,
      "outputs": []
    },
    {
      "cell_type": "code",
      "source": [
        "#Q11) What is memory management in Python?\n",
        "\"\"\"Ans\n",
        "Memory management as the name suggests is a way of organizing our data our code.It is achieved through various practices.It helps providing both memory and code efficiency.\n",
        "It helps boost computer performance. It helps optimize space and time complexity.It helps in making the flow of code smooth.\"\"\""
      ],
      "metadata": {
        "id": "zLQYqBEL9p7f"
      },
      "execution_count": null,
      "outputs": []
    },
    {
      "cell_type": "code",
      "source": [
        "#Q12) What are the basic steps involved in exception handling in Python?\n",
        "\"\"\"Ans\n",
        "There are basically two steps involved. One is identifying the error(exception) and\n",
        "the other one is the handle the exception.Hence why its called exception handling. Where we use  try-except statement of python.\"\"\""
      ],
      "metadata": {
        "id": "_SOG6hwO-Ae9"
      },
      "execution_count": null,
      "outputs": []
    },
    {
      "cell_type": "code",
      "source": [
        "#Q13) Why is memory management important in Python?\n",
        "\"\"\"Ans\n",
        "Memory management is important due to the following reasons:-\n",
        "*It helps make the process of searching easier.\n",
        "*It helps in enhancing space and time complexity.\n",
        "*It helps in improving performance\n",
        "*Helps get rid of unwanted items in code.\n",
        "*Makes the program more computer friendly\n",
        "*Organized memory helps for user to get a clearer understanding of the program.\"\"\""
      ],
      "metadata": {
        "id": "dPqO_Cgy-aod"
      },
      "execution_count": null,
      "outputs": []
    },
    {
      "cell_type": "code",
      "source": [
        "#Q14) What is the role of try and except in exception handling?\n",
        "\"\"\"Ans\n",
        "try block consist of the block of code we want to check if it consist of any exceptions or not.\n",
        "Except block is used to capture what is the exception(type) occuring.It can either be specefied or can be written normaly.Except block can handle more than one exception.\n",
        "Finally block can also be used.where finally block is used to even if there is and error the statement of Finally block is executed.\"\"\""
      ],
      "metadata": {
        "id": "QGXXeTgD-3ke"
      },
      "execution_count": null,
      "outputs": []
    },
    {
      "cell_type": "code",
      "source": [
        "#Q15) How does Python's garbage collection system work?\n",
        "\"\"\"Ans\n",
        "It works on 2 main principles:-\n",
        "*Reference counting\n",
        "*General garbage manager\n",
        "When a new object is created, its reference count is set to 1.\n",
        " When another variable or data structure refers to the same object, the reference count is incremented.\n",
        " \\ When a reference to an object is removed, the reference count is decremented. If the reference count reaches 0, the object is deallocated, and its memory is reclaimed.\n",
        " The garbage collector periodically runs to identify and collect objects with a reference count of 0 and to handle circular references.\n",
        " The garbage collector can be accessed and manipulated through the gc module.\"\"\""
      ],
      "metadata": {
        "id": "D2t4D8JL_WlU"
      },
      "execution_count": null,
      "outputs": []
    },
    {
      "cell_type": "code",
      "source": [
        "#Q16) What is the purpose of the else block in exception handling?\n",
        "\"\"\"Ans\n",
        "else block is used with the except statemnt. These else block is used if we want to execute a block of code only if there are no exceptions present in the code.\"\"\""
      ],
      "metadata": {
        "id": "rMf-donG_tZ0"
      },
      "execution_count": null,
      "outputs": []
    },
    {
      "cell_type": "code",
      "source": [
        "#Q17)What are the common logging levels in Python?\n",
        "\"\"\"Ans\n",
        "Logging as diffrent levels.These levels are based on the levels of severity. They are named as follows:-\n",
        "\n",
        "DEBUG-Detailed information, useful for diagnosing problems.\n",
        "INFO-General events, like system startup or a successful operation.\n",
        "WARNING-An indication that something unexpected happened, or might cause a problem in the future. The program still works.\n",
        "ERROR-A more serious problem; the program failed to perform a function.\n",
        "CRITICAL-A serious error indicating the program/system may not continue running."
      ],
      "metadata": {
        "id": "p-B77KQc_828"
      },
      "execution_count": null,
      "outputs": []
    },
    {
      "cell_type": "code",
      "source": [
        "#Q18) What is the difference between os.fork() and multiprocessing in Python?\n",
        "\"\"\"Ans\n",
        "os.fork():\n",
        "A low-level system call that creates a child process by duplicating the current process. Available only on Unix-based systems.\n",
        "\n",
        "multiprocessing:\n",
        " A high-level Python module that allows the creation and management of separate processes with built-in support for communication and synchronization.\n",
        "  It is cross-platform and more user-friendly.\"\"\""
      ],
      "metadata": {
        "id": "z_2CTP7sAbgU"
      },
      "execution_count": null,
      "outputs": []
    },
    {
      "cell_type": "code",
      "source": [
        "#Q19) What is the importance of closing a file in Python?\n",
        "\"\"\"Ans\n",
        "File closing in python is important as if you don't close the file using file.close(), The file will overwrite.\n",
        "It means that if a file is filled with data using write function, and if not closed.Then if we try write mode again, the previous data will be erased.\n",
        "File.closed is mandatory as you won't be able to see the details of file until you closed the file.\"\"\""
      ],
      "metadata": {
        "id": "EarWZ3hcAxxk"
      },
      "execution_count": null,
      "outputs": []
    },
    {
      "cell_type": "code",
      "source": [
        "#Q20)  What is the difference between file.read() and file.readline() in Python?\n",
        "\"\"\"Ans\n",
        "file.read() is used to read everything from the start of the file. Although, we need to use file.seek(0) statement to bring cursor to start.\n",
        "If we want to know the current position of cursor. We use file.tell()\n",
        "\n",
        "file.readline() is used only to read the first line of the file.\"\"\""
      ],
      "metadata": {
        "id": "naUkiB2zBMbV"
      },
      "execution_count": null,
      "outputs": []
    },
    {
      "cell_type": "code",
      "source": [
        "#Q21) What is the logging module in Python used for?\n",
        "\"\"\"Ans\n",
        "Logging module helps records the state and flow of program in python. It is useful for understanding, monitoring and debugging of your code. It shows how program behaves over time.\n",
        "Its main aim is to help in debugging. Although, it supports different levels of logging which helps to categorize messages based on their severity.\"\"\""
      ],
      "metadata": {
        "id": "gEAkWgMdBjEM"
      },
      "execution_count": null,
      "outputs": []
    },
    {
      "cell_type": "code",
      "source": [
        "#Q22) What is the os module in Python used for in file handling?\n",
        "\"\"\"Ans\n",
        "The os module in Python is used for interacting with the operating system, and it's handy for file handling tasks. Here are a few common things you can do with it:\n",
        "\n",
        "Check if a file or folder exists: os.path.exists('file.txt')\n",
        "\n",
        "Create directories: os.mkdir('new_folder') or os.makedirs('parent/child')\n",
        "\n",
        "Remove files or directories: os.remove('file.txt'), os.rmdir('empty_folder')\n",
        "\n",
        "Rename or move files: os.rename('old.txt', 'new.txt')\n",
        "\n",
        "Get current working directory: os.getcwd()\n",
        "\n",
        "Change directory: os.chdir('path/to/folder')\n",
        "\n",
        "List files in a directory: os.listdir('path').\"\"\""
      ],
      "metadata": {
        "id": "eTANsLcNB8nc"
      },
      "execution_count": null,
      "outputs": []
    },
    {
      "cell_type": "code",
      "source": [
        "#Q23) What are the challenges associated with memory management in Python?\n",
        "\"\"\"Ans\n",
        " Memory management in Python is mostly handled by the interpreter. Some of the challenges are mentioned below\n",
        "Garbage collection quirks:\n",
        "\n",
        "Memory leaks:: Sometimes object can be represented in a way which leads to memory leaks\n",
        "Global Interpreter Lock (GIL): Python's GIL limits memory-related operations in multithreading.\n",
        "Large data structures: Storing big lists, dicts, or loading huge datasets into memory can cause programs to eat up RAM quickly.\n",
        "Fragmentation: Over time, memory can get fragmented due to allocation and deallocation of objects.\"\"\""
      ],
      "metadata": {
        "id": "YjwubKCbCUFb"
      },
      "execution_count": null,
      "outputs": []
    },
    {
      "cell_type": "code",
      "source": [
        "#Q24) How do you raise an exception manually in Python?\n",
        "\"\"\"Ans\n",
        "In Python, you can raise an exception manually using the raise keyword.\n",
        "You can replace ValueError with any other built-in or custom exception type. Just make sure the exception class inherits from Python’s built-in Exception class.\"\"\""
      ],
      "metadata": {
        "id": "2sd4wnEgCkC0"
      },
      "execution_count": null,
      "outputs": []
    },
    {
      "cell_type": "code",
      "source": [
        "#Q25) Why is it important to use multithreading in certain applications?\n",
        "\"\"\"Ans\n",
        "Multithreading is important in some applications as it allows multiple tasks to be run cocurrently within a single process.\n",
        "*It helps keep the UI responsive while the tasks are bring performed in background\n",
        "*On multi-core processors, threads can run in parallel, making better use of CPU cores for certain kinds of tasks.\n",
        "*It helps in handling I/O efficiently.\n",
        "*It helps in completing processes at a faster rate.\"\"\""
      ],
      "metadata": {
        "id": "ggIN26lgCw7k"
      },
      "execution_count": null,
      "outputs": []
    },
    {
      "cell_type": "code",
      "source": [
        "#Practical Questions"
      ],
      "metadata": {
        "id": "Qh0Fs1RDDBxE"
      },
      "execution_count": null,
      "outputs": []
    },
    {
      "cell_type": "code",
      "source": [],
      "metadata": {
        "id": "dcXfiFZgDYb0"
      },
      "execution_count": null,
      "outputs": []
    },
    {
      "cell_type": "code",
      "source": [
        "#Q1)  How can you open a file for writing in Python and write a string to it.\n",
        "file=open('Taha.txt','w')\n",
        "file.write(\"This is my first line in file named Taha \\n\")\n",
        "file.write(\"i am studying data science from PWskills\")\n",
        "file.close()"
      ],
      "metadata": {
        "id": "lDpYTowNBTKR"
      },
      "execution_count": 5,
      "outputs": []
    },
    {
      "cell_type": "code",
      "source": [
        "#Q2) Write a Python program to read the contents of a file and print each line.\n",
        "f = open(\"Taha.txt\", 'r')\n",
        "f.seek(0)\n",
        "print(f.read())\n",
        "f.close()"
      ],
      "metadata": {
        "colab": {
          "base_uri": "https://localhost:8080/"
        },
        "id": "YLRDvTIKB5NJ",
        "outputId": "c8961d40-0f86-4881-8dee-a76a19c09d54"
      },
      "execution_count": 6,
      "outputs": [
        {
          "output_type": "stream",
          "name": "stdout",
          "text": [
            "This is my first line in file named Taha \n",
            "i am studying data science from PWskills\n"
          ]
        }
      ]
    },
    {
      "cell_type": "code",
      "source": [
        "#Q3)  How would you handle a case where the file doesn't exist while trying to open it for reading.\n",
        "try:\n",
        "  file=open(\"hamza.txt\",\"r\")\n",
        "  file.close()\n",
        "except Exception as e:\n",
        "  print(\"The file does not exist\")\n",
        "  print(e)"
      ],
      "metadata": {
        "colab": {
          "base_uri": "https://localhost:8080/"
        },
        "id": "_ON0rnarCeCh",
        "outputId": "8e7d5221-3661-4348-8c53-8f877fa484cf"
      },
      "execution_count": 7,
      "outputs": [
        {
          "output_type": "stream",
          "name": "stdout",
          "text": [
            "The file does not exist\n",
            "[Errno 2] No such file or directory: 'hamza.txt'\n"
          ]
        }
      ]
    },
    {
      "cell_type": "code",
      "source": [
        "#Q4) Write a Python script that reads from one file and writes its content to another file\n",
        "input_file=open(\"Taha.txt\",\"r\")\n",
        "c=input_file.read()\n",
        "f=open(\"Destination.txt\",\"w\")\n",
        "f.write(c)\n",
        "f.close()\n",
        "print(f\"The file is succesfully copied\")"
      ],
      "metadata": {
        "colab": {
          "base_uri": "https://localhost:8080/"
        },
        "id": "xz91Zj_iJ1ZH",
        "outputId": "927f7294-dc3e-4ba6-c3fa-c851b96138d7"
      },
      "execution_count": 8,
      "outputs": [
        {
          "output_type": "stream",
          "name": "stdout",
          "text": [
            "The file is succesfully copied\n"
          ]
        }
      ]
    },
    {
      "cell_type": "code",
      "source": [
        "#Q5)How would you catch and handle division by zero error in Python?\n",
        "try:\n",
        "  a=int(input(\"Enter a number:\"))\n",
        "  b=int(input(\"Enter another number:\"))\n",
        "  c=a/b\n",
        "  print(\"The answer is:\",c)\n",
        "except ValueError:\n",
        "  print(\"Enter a valid value plz\")\n",
        "except ZeroDivisionError:\n",
        "  print(\"This number cannot be divided by 0\")"
      ],
      "metadata": {
        "colab": {
          "base_uri": "https://localhost:8080/"
        },
        "id": "WwYmgX92K-xL",
        "outputId": "1cfe5d26-9840-48a6-ca54-8dc2a9612f5b"
      },
      "execution_count": 10,
      "outputs": [
        {
          "output_type": "stream",
          "name": "stdout",
          "text": [
            "Enter a number:23\n",
            "Enter another number:0\n",
            "This number cannot be divided by 0\n"
          ]
        }
      ]
    },
    {
      "cell_type": "code",
      "source": [
        "#Q6)Write a Python program that logs an error message to a log file when a division by zero exception occurs.\n",
        "import logging\n",
        "logging.basicConfig(\n",
        "    filename='error_log.log',\n",
        "    level=logging.ERROR,\n",
        "    format='%(asctime)s - %(levelname)s - %(message)s'\n",
        ")\n",
        "\n",
        "def divide(a, b):\n",
        "    try:\n",
        "        return a / b\n",
        "    except ZeroDivisionError as e:\n",
        "        logging.error(\"Attempted to divide by zero: %s\", e)\n",
        "        print(\"An error occurred. Check 'error_log.txt' for details.\")\n",
        "\n",
        "divide(1, 0)\n"
      ],
      "metadata": {
        "colab": {
          "base_uri": "https://localhost:8080/"
        },
        "id": "plNfwHZ2MQxR",
        "outputId": "78d175d4-2ff5-4929-ce6f-f819558f2d68"
      },
      "execution_count": 12,
      "outputs": [
        {
          "output_type": "stream",
          "name": "stderr",
          "text": [
            "ERROR:root:Attempted to divide by zero: division by zero\n"
          ]
        },
        {
          "output_type": "stream",
          "name": "stdout",
          "text": [
            "An error occurred. Check 'error_log.txt' for details.\n"
          ]
        }
      ]
    },
    {
      "cell_type": "code",
      "source": [
        "#Q7) How do you log information at different levels (INFO, ERROR, WARNING) in Python using the logging module.\n",
        "import logging\n",
        "logging.basicConfig(filename = \"test_new1.log\", level = logging.DEBUG, format = '%(asctime)s %(levelname)s %(message)s')\n",
        "logging.debug(\"This msg is for debugging\")\n",
        "logging.info(\"This is my info msg\")\n",
        "logging.warning(\"This is my warning msg\")\n",
        "logging.error(\"Some error has occured\")\n",
        "logging.shutdown()"
      ],
      "metadata": {
        "id": "r8Eqf7iwNBd7",
        "colab": {
          "base_uri": "https://localhost:8080/"
        },
        "outputId": "9600b4a7-fb65-42e8-95cd-b6e82a3500e1"
      },
      "execution_count": null,
      "outputs": [
        {
          "output_type": "stream",
          "name": "stderr",
          "text": [
            "WARNING:root:This is my warning msg\n",
            "ERROR:root:Some error has occured\n"
          ]
        }
      ]
    },
    {
      "cell_type": "code",
      "source": [
        "#Q8) Write a program to handle a file opening error using exception handling.\n",
        "try:\n",
        "  with open(\"Syed.txt\",\"r\") as t:\n",
        "    c=t.read()\n",
        "    print(c)\n",
        "except FileNotFoundError:\n",
        "  print(\"The file is non existing\")"
      ],
      "metadata": {
        "colab": {
          "base_uri": "https://localhost:8080/"
        },
        "id": "SQ6AFiwhOZcv",
        "outputId": "0863e6ee-72cc-44eb-d0ea-995dc276f9e2"
      },
      "execution_count": 13,
      "outputs": [
        {
          "output_type": "stream",
          "name": "stdout",
          "text": [
            "The file is non existing\n"
          ]
        }
      ]
    },
    {
      "cell_type": "code",
      "source": [
        "#Q9) How can you read a file line by line and store its content in a list in Python.\n",
        "f = open(\"Taha.txt\", 'r')\n",
        "list=[]\n",
        "for i in f:\n",
        "  list.append(i)\n",
        "print(list)"
      ],
      "metadata": {
        "colab": {
          "base_uri": "https://localhost:8080/"
        },
        "id": "-MqTe4BmO87n",
        "outputId": "5b7a25e5-4657-4a6c-83ca-18446380fe5b"
      },
      "execution_count": 14,
      "outputs": [
        {
          "output_type": "stream",
          "name": "stdout",
          "text": [
            "['This is my first line in file named Taha \\n', 'i am studying data science from PWskills']\n"
          ]
        }
      ]
    },
    {
      "cell_type": "code",
      "source": [
        "#Q10) How can you append data to an existing file in Python.\n",
        "with open(\"Text.txt\",\"w\") as R:\n",
        "  R.write(\"This is my first line\\n\")\n",
        "  R.write(\"This is my second line\\n\")\n",
        "  R.write(\"This is my third line\\n\")\n",
        "  R.write(\"This is my fourth line\\n\")\n",
        "  R.close()\n",
        "with open(\"Text.txt\",\"a\") as d:\n",
        "  d.write(\"This is my fifth line\")\n",
        "  d.close()\n"
      ],
      "metadata": {
        "id": "xmAIAtp2PpsG"
      },
      "execution_count": 15,
      "outputs": []
    },
    {
      "cell_type": "code",
      "source": [
        "#Q11) Write a Python program that uses a try-except block to handle an error when attempting to access a dictionary key that doesn't exist\n",
        "try:\n",
        "  dic={\"A\":[1,2,3,4]\n",
        "       ,\"B\":[5,6,7,8]}\n",
        "  dic[\"c\"]\n",
        "except Exception as e:\n",
        "  print(\"The key does not exist in dictionary\")\n",
        "  print(e)"
      ],
      "metadata": {
        "colab": {
          "base_uri": "https://localhost:8080/"
        },
        "id": "a86u0TO6QfX2",
        "outputId": "b78c4ce8-8618-4771-ab3a-08b72f2c951c"
      },
      "execution_count": 16,
      "outputs": [
        {
          "output_type": "stream",
          "name": "stdout",
          "text": [
            "The key does not exist in dictionary\n",
            "'c'\n"
          ]
        }
      ]
    },
    {
      "cell_type": "code",
      "source": [
        "#Q12) Write a program that demonstrates using multiple except blocks to handle different types of exceptions.\n",
        "try:\n",
        "  a=int(input(\"Enter a number:\"))\n",
        "  b=int(input(\"Enter another number:\"))\n",
        "  print(a/b)\n",
        "except ValueError:\n",
        "  print(\"plz enter a valid value\")\n",
        "except ZeroDivisionError:\n",
        "  print(\"The number cannot be divided by 0\")"
      ],
      "metadata": {
        "colab": {
          "base_uri": "https://localhost:8080/"
        },
        "id": "NI9qMMZDRNLt",
        "outputId": "e99d2f59-3941-43a8-ca45-50fd2aa16d38"
      },
      "execution_count": 19,
      "outputs": [
        {
          "output_type": "stream",
          "name": "stdout",
          "text": [
            "Enter a number:23\n",
            "Enter another number:u\n",
            "plz enter a valid value\n"
          ]
        }
      ]
    },
    {
      "cell_type": "code",
      "source": [
        "#Q13)  How would you check if a file exists before attempting to read it in Python.\n",
        "import os\n",
        "filename=\"Taha.txt\"\n",
        "if os.path.exists(filename):\n",
        "  print(\"True\")\n",
        "else:\n",
        "  print(\"False\")\n"
      ],
      "metadata": {
        "colab": {
          "base_uri": "https://localhost:8080/"
        },
        "id": "uvE2Nk0uSFGs",
        "outputId": "5af57ab4-4f42-4ee6-ed2d-ec0df22c78ba"
      },
      "execution_count": 20,
      "outputs": [
        {
          "output_type": "stream",
          "name": "stdout",
          "text": [
            "True\n"
          ]
        }
      ]
    },
    {
      "cell_type": "code",
      "source": [
        "#Q14) Write a program that uses the logging module to log both informational and error messages.\n",
        "import logging\n",
        "logging.basicConfig(filename=\"Basic.log\",level=logging.DEBUG,format='%(asctime)s %(level)s %(message)s')\n",
        "logging.info(\"Processing has started\")\n",
        "try:\n",
        "  a=int(input(\"Enter a number:\"))\n",
        "  b=int(input(\"Enter another number:\"))\n",
        "  logging.info(\"Values of a and b were taken\")\n",
        "  print(a/b)\n",
        "  logging.info(\"The execution of program was succesful\")\n",
        "except ValueError:\n",
        "  logging.error(\"One of the values has a invalid datatype\")\n",
        "  print(\"plz enter a valid value\")\n",
        "\n",
        "except ZeroDivisionError:\n",
        "  logging.error(\"The denominator has 0 value\")\n",
        "  print(\"The number cannot be divided by 0\")\n"
      ],
      "metadata": {
        "colab": {
          "base_uri": "https://localhost:8080/"
        },
        "id": "BxnEuSJGS4dr",
        "outputId": "e71440dd-2af7-4e4d-e085-dec8ce5ad56b"
      },
      "execution_count": 22,
      "outputs": [
        {
          "output_type": "stream",
          "name": "stdout",
          "text": [
            "Enter a number:3\n",
            "Enter another number:5\n",
            "0.6\n"
          ]
        }
      ]
    },
    {
      "cell_type": "code",
      "source": [
        "#Q15) Write a Python program that prints the content of a file and handles the case when the file is empty.\n",
        "try:\n",
        "  with open(\"Taha.txt\",\"r\") as f:\n",
        "    f.seek(0)\n",
        "    print(f.readlines())\n",
        "    f.close()\n",
        "except:\n",
        "  print(\"The given file is empty\")"
      ],
      "metadata": {
        "colab": {
          "base_uri": "https://localhost:8080/"
        },
        "id": "Aj6WTy16UFhD",
        "outputId": "e08b5a06-7375-49d9-806e-a19d9d02f669"
      },
      "execution_count": 25,
      "outputs": [
        {
          "output_type": "stream",
          "name": "stdout",
          "text": [
            "['This is my first line in file named Taha \\n', 'i am studying data science from PWskills']\n"
          ]
        }
      ]
    },
    {
      "cell_type": "code",
      "source": [
        "\n",
        "#Q16) Demonstrate how to use memory profiling to check the memory usage of a small program.\n",
        "# Step 1: Install memory-profiler\n",
        "!pip install -q memory-profiler\n",
        "# Step 2: Load memory_profiler extension for IPython\n",
        "%load_ext memory_profiler\n",
        "# Step 3: Define your function (in a separate cell!)\n",
        "def create_large_list():\n",
        "    big_list = [x * 2 for x in range(1000000)]\n",
        "    return big_list\n",
        "create_large_list()\n",
        "\n",
        "# I HAVE DOUBTS ON THIS QUESTION.SO I USED CHATGPT FOR IT.\n",
        "\n"
      ],
      "metadata": {
        "colab": {
          "base_uri": "https://localhost:8080/"
        },
        "collapsed": true,
        "id": "dhmmzUA4VtQ4",
        "outputId": "72cfa557-39a6-4253-b3e7-022feeefd244"
      },
      "execution_count": 26,
      "outputs": [
        {
          "output_type": "execute_result",
          "data": {
            "text/plain": [
              "[0,\n",
              " 2,\n",
              " 4,\n",
              " 6,\n",
              " 8,\n",
              " 10,\n",
              " 12,\n",
              " 14,\n",
              " 16,\n",
              " 18,\n",
              " 20,\n",
              " 22,\n",
              " 24,\n",
              " 26,\n",
              " 28,\n",
              " 30,\n",
              " 32,\n",
              " 34,\n",
              " 36,\n",
              " 38,\n",
              " 40,\n",
              " 42,\n",
              " 44,\n",
              " 46,\n",
              " 48,\n",
              " 50,\n",
              " 52,\n",
              " 54,\n",
              " 56,\n",
              " 58,\n",
              " 60,\n",
              " 62,\n",
              " 64,\n",
              " 66,\n",
              " 68,\n",
              " 70,\n",
              " 72,\n",
              " 74,\n",
              " 76,\n",
              " 78,\n",
              " 80,\n",
              " 82,\n",
              " 84,\n",
              " 86,\n",
              " 88,\n",
              " 90,\n",
              " 92,\n",
              " 94,\n",
              " 96,\n",
              " 98,\n",
              " 100,\n",
              " 102,\n",
              " 104,\n",
              " 106,\n",
              " 108,\n",
              " 110,\n",
              " 112,\n",
              " 114,\n",
              " 116,\n",
              " 118,\n",
              " 120,\n",
              " 122,\n",
              " 124,\n",
              " 126,\n",
              " 128,\n",
              " 130,\n",
              " 132,\n",
              " 134,\n",
              " 136,\n",
              " 138,\n",
              " 140,\n",
              " 142,\n",
              " 144,\n",
              " 146,\n",
              " 148,\n",
              " 150,\n",
              " 152,\n",
              " 154,\n",
              " 156,\n",
              " 158,\n",
              " 160,\n",
              " 162,\n",
              " 164,\n",
              " 166,\n",
              " 168,\n",
              " 170,\n",
              " 172,\n",
              " 174,\n",
              " 176,\n",
              " 178,\n",
              " 180,\n",
              " 182,\n",
              " 184,\n",
              " 186,\n",
              " 188,\n",
              " 190,\n",
              " 192,\n",
              " 194,\n",
              " 196,\n",
              " 198,\n",
              " 200,\n",
              " 202,\n",
              " 204,\n",
              " 206,\n",
              " 208,\n",
              " 210,\n",
              " 212,\n",
              " 214,\n",
              " 216,\n",
              " 218,\n",
              " 220,\n",
              " 222,\n",
              " 224,\n",
              " 226,\n",
              " 228,\n",
              " 230,\n",
              " 232,\n",
              " 234,\n",
              " 236,\n",
              " 238,\n",
              " 240,\n",
              " 242,\n",
              " 244,\n",
              " 246,\n",
              " 248,\n",
              " 250,\n",
              " 252,\n",
              " 254,\n",
              " 256,\n",
              " 258,\n",
              " 260,\n",
              " 262,\n",
              " 264,\n",
              " 266,\n",
              " 268,\n",
              " 270,\n",
              " 272,\n",
              " 274,\n",
              " 276,\n",
              " 278,\n",
              " 280,\n",
              " 282,\n",
              " 284,\n",
              " 286,\n",
              " 288,\n",
              " 290,\n",
              " 292,\n",
              " 294,\n",
              " 296,\n",
              " 298,\n",
              " 300,\n",
              " 302,\n",
              " 304,\n",
              " 306,\n",
              " 308,\n",
              " 310,\n",
              " 312,\n",
              " 314,\n",
              " 316,\n",
              " 318,\n",
              " 320,\n",
              " 322,\n",
              " 324,\n",
              " 326,\n",
              " 328,\n",
              " 330,\n",
              " 332,\n",
              " 334,\n",
              " 336,\n",
              " 338,\n",
              " 340,\n",
              " 342,\n",
              " 344,\n",
              " 346,\n",
              " 348,\n",
              " 350,\n",
              " 352,\n",
              " 354,\n",
              " 356,\n",
              " 358,\n",
              " 360,\n",
              " 362,\n",
              " 364,\n",
              " 366,\n",
              " 368,\n",
              " 370,\n",
              " 372,\n",
              " 374,\n",
              " 376,\n",
              " 378,\n",
              " 380,\n",
              " 382,\n",
              " 384,\n",
              " 386,\n",
              " 388,\n",
              " 390,\n",
              " 392,\n",
              " 394,\n",
              " 396,\n",
              " 398,\n",
              " 400,\n",
              " 402,\n",
              " 404,\n",
              " 406,\n",
              " 408,\n",
              " 410,\n",
              " 412,\n",
              " 414,\n",
              " 416,\n",
              " 418,\n",
              " 420,\n",
              " 422,\n",
              " 424,\n",
              " 426,\n",
              " 428,\n",
              " 430,\n",
              " 432,\n",
              " 434,\n",
              " 436,\n",
              " 438,\n",
              " 440,\n",
              " 442,\n",
              " 444,\n",
              " 446,\n",
              " 448,\n",
              " 450,\n",
              " 452,\n",
              " 454,\n",
              " 456,\n",
              " 458,\n",
              " 460,\n",
              " 462,\n",
              " 464,\n",
              " 466,\n",
              " 468,\n",
              " 470,\n",
              " 472,\n",
              " 474,\n",
              " 476,\n",
              " 478,\n",
              " 480,\n",
              " 482,\n",
              " 484,\n",
              " 486,\n",
              " 488,\n",
              " 490,\n",
              " 492,\n",
              " 494,\n",
              " 496,\n",
              " 498,\n",
              " 500,\n",
              " 502,\n",
              " 504,\n",
              " 506,\n",
              " 508,\n",
              " 510,\n",
              " 512,\n",
              " 514,\n",
              " 516,\n",
              " 518,\n",
              " 520,\n",
              " 522,\n",
              " 524,\n",
              " 526,\n",
              " 528,\n",
              " 530,\n",
              " 532,\n",
              " 534,\n",
              " 536,\n",
              " 538,\n",
              " 540,\n",
              " 542,\n",
              " 544,\n",
              " 546,\n",
              " 548,\n",
              " 550,\n",
              " 552,\n",
              " 554,\n",
              " 556,\n",
              " 558,\n",
              " 560,\n",
              " 562,\n",
              " 564,\n",
              " 566,\n",
              " 568,\n",
              " 570,\n",
              " 572,\n",
              " 574,\n",
              " 576,\n",
              " 578,\n",
              " 580,\n",
              " 582,\n",
              " 584,\n",
              " 586,\n",
              " 588,\n",
              " 590,\n",
              " 592,\n",
              " 594,\n",
              " 596,\n",
              " 598,\n",
              " 600,\n",
              " 602,\n",
              " 604,\n",
              " 606,\n",
              " 608,\n",
              " 610,\n",
              " 612,\n",
              " 614,\n",
              " 616,\n",
              " 618,\n",
              " 620,\n",
              " 622,\n",
              " 624,\n",
              " 626,\n",
              " 628,\n",
              " 630,\n",
              " 632,\n",
              " 634,\n",
              " 636,\n",
              " 638,\n",
              " 640,\n",
              " 642,\n",
              " 644,\n",
              " 646,\n",
              " 648,\n",
              " 650,\n",
              " 652,\n",
              " 654,\n",
              " 656,\n",
              " 658,\n",
              " 660,\n",
              " 662,\n",
              " 664,\n",
              " 666,\n",
              " 668,\n",
              " 670,\n",
              " 672,\n",
              " 674,\n",
              " 676,\n",
              " 678,\n",
              " 680,\n",
              " 682,\n",
              " 684,\n",
              " 686,\n",
              " 688,\n",
              " 690,\n",
              " 692,\n",
              " 694,\n",
              " 696,\n",
              " 698,\n",
              " 700,\n",
              " 702,\n",
              " 704,\n",
              " 706,\n",
              " 708,\n",
              " 710,\n",
              " 712,\n",
              " 714,\n",
              " 716,\n",
              " 718,\n",
              " 720,\n",
              " 722,\n",
              " 724,\n",
              " 726,\n",
              " 728,\n",
              " 730,\n",
              " 732,\n",
              " 734,\n",
              " 736,\n",
              " 738,\n",
              " 740,\n",
              " 742,\n",
              " 744,\n",
              " 746,\n",
              " 748,\n",
              " 750,\n",
              " 752,\n",
              " 754,\n",
              " 756,\n",
              " 758,\n",
              " 760,\n",
              " 762,\n",
              " 764,\n",
              " 766,\n",
              " 768,\n",
              " 770,\n",
              " 772,\n",
              " 774,\n",
              " 776,\n",
              " 778,\n",
              " 780,\n",
              " 782,\n",
              " 784,\n",
              " 786,\n",
              " 788,\n",
              " 790,\n",
              " 792,\n",
              " 794,\n",
              " 796,\n",
              " 798,\n",
              " 800,\n",
              " 802,\n",
              " 804,\n",
              " 806,\n",
              " 808,\n",
              " 810,\n",
              " 812,\n",
              " 814,\n",
              " 816,\n",
              " 818,\n",
              " 820,\n",
              " 822,\n",
              " 824,\n",
              " 826,\n",
              " 828,\n",
              " 830,\n",
              " 832,\n",
              " 834,\n",
              " 836,\n",
              " 838,\n",
              " 840,\n",
              " 842,\n",
              " 844,\n",
              " 846,\n",
              " 848,\n",
              " 850,\n",
              " 852,\n",
              " 854,\n",
              " 856,\n",
              " 858,\n",
              " 860,\n",
              " 862,\n",
              " 864,\n",
              " 866,\n",
              " 868,\n",
              " 870,\n",
              " 872,\n",
              " 874,\n",
              " 876,\n",
              " 878,\n",
              " 880,\n",
              " 882,\n",
              " 884,\n",
              " 886,\n",
              " 888,\n",
              " 890,\n",
              " 892,\n",
              " 894,\n",
              " 896,\n",
              " 898,\n",
              " 900,\n",
              " 902,\n",
              " 904,\n",
              " 906,\n",
              " 908,\n",
              " 910,\n",
              " 912,\n",
              " 914,\n",
              " 916,\n",
              " 918,\n",
              " 920,\n",
              " 922,\n",
              " 924,\n",
              " 926,\n",
              " 928,\n",
              " 930,\n",
              " 932,\n",
              " 934,\n",
              " 936,\n",
              " 938,\n",
              " 940,\n",
              " 942,\n",
              " 944,\n",
              " 946,\n",
              " 948,\n",
              " 950,\n",
              " 952,\n",
              " 954,\n",
              " 956,\n",
              " 958,\n",
              " 960,\n",
              " 962,\n",
              " 964,\n",
              " 966,\n",
              " 968,\n",
              " 970,\n",
              " 972,\n",
              " 974,\n",
              " 976,\n",
              " 978,\n",
              " 980,\n",
              " 982,\n",
              " 984,\n",
              " 986,\n",
              " 988,\n",
              " 990,\n",
              " 992,\n",
              " 994,\n",
              " 996,\n",
              " 998,\n",
              " 1000,\n",
              " 1002,\n",
              " 1004,\n",
              " 1006,\n",
              " 1008,\n",
              " 1010,\n",
              " 1012,\n",
              " 1014,\n",
              " 1016,\n",
              " 1018,\n",
              " 1020,\n",
              " 1022,\n",
              " 1024,\n",
              " 1026,\n",
              " 1028,\n",
              " 1030,\n",
              " 1032,\n",
              " 1034,\n",
              " 1036,\n",
              " 1038,\n",
              " 1040,\n",
              " 1042,\n",
              " 1044,\n",
              " 1046,\n",
              " 1048,\n",
              " 1050,\n",
              " 1052,\n",
              " 1054,\n",
              " 1056,\n",
              " 1058,\n",
              " 1060,\n",
              " 1062,\n",
              " 1064,\n",
              " 1066,\n",
              " 1068,\n",
              " 1070,\n",
              " 1072,\n",
              " 1074,\n",
              " 1076,\n",
              " 1078,\n",
              " 1080,\n",
              " 1082,\n",
              " 1084,\n",
              " 1086,\n",
              " 1088,\n",
              " 1090,\n",
              " 1092,\n",
              " 1094,\n",
              " 1096,\n",
              " 1098,\n",
              " 1100,\n",
              " 1102,\n",
              " 1104,\n",
              " 1106,\n",
              " 1108,\n",
              " 1110,\n",
              " 1112,\n",
              " 1114,\n",
              " 1116,\n",
              " 1118,\n",
              " 1120,\n",
              " 1122,\n",
              " 1124,\n",
              " 1126,\n",
              " 1128,\n",
              " 1130,\n",
              " 1132,\n",
              " 1134,\n",
              " 1136,\n",
              " 1138,\n",
              " 1140,\n",
              " 1142,\n",
              " 1144,\n",
              " 1146,\n",
              " 1148,\n",
              " 1150,\n",
              " 1152,\n",
              " 1154,\n",
              " 1156,\n",
              " 1158,\n",
              " 1160,\n",
              " 1162,\n",
              " 1164,\n",
              " 1166,\n",
              " 1168,\n",
              " 1170,\n",
              " 1172,\n",
              " 1174,\n",
              " 1176,\n",
              " 1178,\n",
              " 1180,\n",
              " 1182,\n",
              " 1184,\n",
              " 1186,\n",
              " 1188,\n",
              " 1190,\n",
              " 1192,\n",
              " 1194,\n",
              " 1196,\n",
              " 1198,\n",
              " 1200,\n",
              " 1202,\n",
              " 1204,\n",
              " 1206,\n",
              " 1208,\n",
              " 1210,\n",
              " 1212,\n",
              " 1214,\n",
              " 1216,\n",
              " 1218,\n",
              " 1220,\n",
              " 1222,\n",
              " 1224,\n",
              " 1226,\n",
              " 1228,\n",
              " 1230,\n",
              " 1232,\n",
              " 1234,\n",
              " 1236,\n",
              " 1238,\n",
              " 1240,\n",
              " 1242,\n",
              " 1244,\n",
              " 1246,\n",
              " 1248,\n",
              " 1250,\n",
              " 1252,\n",
              " 1254,\n",
              " 1256,\n",
              " 1258,\n",
              " 1260,\n",
              " 1262,\n",
              " 1264,\n",
              " 1266,\n",
              " 1268,\n",
              " 1270,\n",
              " 1272,\n",
              " 1274,\n",
              " 1276,\n",
              " 1278,\n",
              " 1280,\n",
              " 1282,\n",
              " 1284,\n",
              " 1286,\n",
              " 1288,\n",
              " 1290,\n",
              " 1292,\n",
              " 1294,\n",
              " 1296,\n",
              " 1298,\n",
              " 1300,\n",
              " 1302,\n",
              " 1304,\n",
              " 1306,\n",
              " 1308,\n",
              " 1310,\n",
              " 1312,\n",
              " 1314,\n",
              " 1316,\n",
              " 1318,\n",
              " 1320,\n",
              " 1322,\n",
              " 1324,\n",
              " 1326,\n",
              " 1328,\n",
              " 1330,\n",
              " 1332,\n",
              " 1334,\n",
              " 1336,\n",
              " 1338,\n",
              " 1340,\n",
              " 1342,\n",
              " 1344,\n",
              " 1346,\n",
              " 1348,\n",
              " 1350,\n",
              " 1352,\n",
              " 1354,\n",
              " 1356,\n",
              " 1358,\n",
              " 1360,\n",
              " 1362,\n",
              " 1364,\n",
              " 1366,\n",
              " 1368,\n",
              " 1370,\n",
              " 1372,\n",
              " 1374,\n",
              " 1376,\n",
              " 1378,\n",
              " 1380,\n",
              " 1382,\n",
              " 1384,\n",
              " 1386,\n",
              " 1388,\n",
              " 1390,\n",
              " 1392,\n",
              " 1394,\n",
              " 1396,\n",
              " 1398,\n",
              " 1400,\n",
              " 1402,\n",
              " 1404,\n",
              " 1406,\n",
              " 1408,\n",
              " 1410,\n",
              " 1412,\n",
              " 1414,\n",
              " 1416,\n",
              " 1418,\n",
              " 1420,\n",
              " 1422,\n",
              " 1424,\n",
              " 1426,\n",
              " 1428,\n",
              " 1430,\n",
              " 1432,\n",
              " 1434,\n",
              " 1436,\n",
              " 1438,\n",
              " 1440,\n",
              " 1442,\n",
              " 1444,\n",
              " 1446,\n",
              " 1448,\n",
              " 1450,\n",
              " 1452,\n",
              " 1454,\n",
              " 1456,\n",
              " 1458,\n",
              " 1460,\n",
              " 1462,\n",
              " 1464,\n",
              " 1466,\n",
              " 1468,\n",
              " 1470,\n",
              " 1472,\n",
              " 1474,\n",
              " 1476,\n",
              " 1478,\n",
              " 1480,\n",
              " 1482,\n",
              " 1484,\n",
              " 1486,\n",
              " 1488,\n",
              " 1490,\n",
              " 1492,\n",
              " 1494,\n",
              " 1496,\n",
              " 1498,\n",
              " 1500,\n",
              " 1502,\n",
              " 1504,\n",
              " 1506,\n",
              " 1508,\n",
              " 1510,\n",
              " 1512,\n",
              " 1514,\n",
              " 1516,\n",
              " 1518,\n",
              " 1520,\n",
              " 1522,\n",
              " 1524,\n",
              " 1526,\n",
              " 1528,\n",
              " 1530,\n",
              " 1532,\n",
              " 1534,\n",
              " 1536,\n",
              " 1538,\n",
              " 1540,\n",
              " 1542,\n",
              " 1544,\n",
              " 1546,\n",
              " 1548,\n",
              " 1550,\n",
              " 1552,\n",
              " 1554,\n",
              " 1556,\n",
              " 1558,\n",
              " 1560,\n",
              " 1562,\n",
              " 1564,\n",
              " 1566,\n",
              " 1568,\n",
              " 1570,\n",
              " 1572,\n",
              " 1574,\n",
              " 1576,\n",
              " 1578,\n",
              " 1580,\n",
              " 1582,\n",
              " 1584,\n",
              " 1586,\n",
              " 1588,\n",
              " 1590,\n",
              " 1592,\n",
              " 1594,\n",
              " 1596,\n",
              " 1598,\n",
              " 1600,\n",
              " 1602,\n",
              " 1604,\n",
              " 1606,\n",
              " 1608,\n",
              " 1610,\n",
              " 1612,\n",
              " 1614,\n",
              " 1616,\n",
              " 1618,\n",
              " 1620,\n",
              " 1622,\n",
              " 1624,\n",
              " 1626,\n",
              " 1628,\n",
              " 1630,\n",
              " 1632,\n",
              " 1634,\n",
              " 1636,\n",
              " 1638,\n",
              " 1640,\n",
              " 1642,\n",
              " 1644,\n",
              " 1646,\n",
              " 1648,\n",
              " 1650,\n",
              " 1652,\n",
              " 1654,\n",
              " 1656,\n",
              " 1658,\n",
              " 1660,\n",
              " 1662,\n",
              " 1664,\n",
              " 1666,\n",
              " 1668,\n",
              " 1670,\n",
              " 1672,\n",
              " 1674,\n",
              " 1676,\n",
              " 1678,\n",
              " 1680,\n",
              " 1682,\n",
              " 1684,\n",
              " 1686,\n",
              " 1688,\n",
              " 1690,\n",
              " 1692,\n",
              " 1694,\n",
              " 1696,\n",
              " 1698,\n",
              " 1700,\n",
              " 1702,\n",
              " 1704,\n",
              " 1706,\n",
              " 1708,\n",
              " 1710,\n",
              " 1712,\n",
              " 1714,\n",
              " 1716,\n",
              " 1718,\n",
              " 1720,\n",
              " 1722,\n",
              " 1724,\n",
              " 1726,\n",
              " 1728,\n",
              " 1730,\n",
              " 1732,\n",
              " 1734,\n",
              " 1736,\n",
              " 1738,\n",
              " 1740,\n",
              " 1742,\n",
              " 1744,\n",
              " 1746,\n",
              " 1748,\n",
              " 1750,\n",
              " 1752,\n",
              " 1754,\n",
              " 1756,\n",
              " 1758,\n",
              " 1760,\n",
              " 1762,\n",
              " 1764,\n",
              " 1766,\n",
              " 1768,\n",
              " 1770,\n",
              " 1772,\n",
              " 1774,\n",
              " 1776,\n",
              " 1778,\n",
              " 1780,\n",
              " 1782,\n",
              " 1784,\n",
              " 1786,\n",
              " 1788,\n",
              " 1790,\n",
              " 1792,\n",
              " 1794,\n",
              " 1796,\n",
              " 1798,\n",
              " 1800,\n",
              " 1802,\n",
              " 1804,\n",
              " 1806,\n",
              " 1808,\n",
              " 1810,\n",
              " 1812,\n",
              " 1814,\n",
              " 1816,\n",
              " 1818,\n",
              " 1820,\n",
              " 1822,\n",
              " 1824,\n",
              " 1826,\n",
              " 1828,\n",
              " 1830,\n",
              " 1832,\n",
              " 1834,\n",
              " 1836,\n",
              " 1838,\n",
              " 1840,\n",
              " 1842,\n",
              " 1844,\n",
              " 1846,\n",
              " 1848,\n",
              " 1850,\n",
              " 1852,\n",
              " 1854,\n",
              " 1856,\n",
              " 1858,\n",
              " 1860,\n",
              " 1862,\n",
              " 1864,\n",
              " 1866,\n",
              " 1868,\n",
              " 1870,\n",
              " 1872,\n",
              " 1874,\n",
              " 1876,\n",
              " 1878,\n",
              " 1880,\n",
              " 1882,\n",
              " 1884,\n",
              " 1886,\n",
              " 1888,\n",
              " 1890,\n",
              " 1892,\n",
              " 1894,\n",
              " 1896,\n",
              " 1898,\n",
              " 1900,\n",
              " 1902,\n",
              " 1904,\n",
              " 1906,\n",
              " 1908,\n",
              " 1910,\n",
              " 1912,\n",
              " 1914,\n",
              " 1916,\n",
              " 1918,\n",
              " 1920,\n",
              " 1922,\n",
              " 1924,\n",
              " 1926,\n",
              " 1928,\n",
              " 1930,\n",
              " 1932,\n",
              " 1934,\n",
              " 1936,\n",
              " 1938,\n",
              " 1940,\n",
              " 1942,\n",
              " 1944,\n",
              " 1946,\n",
              " 1948,\n",
              " 1950,\n",
              " 1952,\n",
              " 1954,\n",
              " 1956,\n",
              " 1958,\n",
              " 1960,\n",
              " 1962,\n",
              " 1964,\n",
              " 1966,\n",
              " 1968,\n",
              " 1970,\n",
              " 1972,\n",
              " 1974,\n",
              " 1976,\n",
              " 1978,\n",
              " 1980,\n",
              " 1982,\n",
              " 1984,\n",
              " 1986,\n",
              " 1988,\n",
              " 1990,\n",
              " 1992,\n",
              " 1994,\n",
              " 1996,\n",
              " 1998,\n",
              " ...]"
            ]
          },
          "metadata": {},
          "execution_count": 26
        }
      ]
    },
    {
      "cell_type": "code",
      "source": [
        "#Q17) Write a Python program to create and write a list of numbers to a file, one number per line.\n",
        "list=[1,2,3,4,5,6,7,8,9,10]\n",
        "with open(\"List.txt\",\"w\") as f:\n",
        "  for i in list:\n",
        "    f.write(f\"{i}\\n\")\n",
        "  f.close()\n",
        "\n"
      ],
      "metadata": {
        "id": "E11gWyBSWz1R"
      },
      "execution_count": 31,
      "outputs": []
    },
    {
      "cell_type": "code",
      "source": [],
      "metadata": {
        "id": "TuohZ0aoLHGQ"
      },
      "execution_count": null,
      "outputs": []
    },
    {
      "cell_type": "code",
      "source": [
        "#Q18) How would you implement a basic logging setup that logs to a file with rotation after 1MB.\n",
        "import logging\n",
        "from logging.handlers import RotatingFileHandler\n",
        "\n",
        "# Create a logger\n",
        "logger = logging.getLogger('my_logger')\n",
        "logger.setLevel(logging.DEBUG)  # Log all messages of level DEBUG or higher\n",
        "\n",
        "# Create a rotating file handler that will log to 'app.log' and rotate after 1MB (1 * 1024 * 1024 bytes)\n",
        "log_handler = RotatingFileHandler('app.log', maxBytes=1*1024*1024, backupCount=3)\n",
        "log_handler.setLevel(logging.DEBUG)  # Log all messages of level DEBUG or higher\n",
        "\n",
        "# Create a log formatter\n",
        "formatter = logging.Formatter('%(asctime)s - %(levelname)s - %(message)s')\n",
        "log_handler.setFormatter(formatter)\n",
        "\n",
        "# Add the handler to the logger\n",
        "logger.addHandler(log_handler)\n",
        "\n",
        "# Example log entries\n",
        "logger.debug('This is a debug message')\n",
        "logger.info('This is an info message')\n",
        "logger.warning('This is a warning message')\n",
        "logger.error('This is an error message')\n",
        "logger.critical('This is a critical message')\n",
        "\n",
        "print(\"Logs are being written to 'app.log' with rotation after 1MB.\")\n"
      ],
      "metadata": {
        "colab": {
          "base_uri": "https://localhost:8080/"
        },
        "id": "emo-K2e9YPyH",
        "outputId": "8d8d79fe-0330-4b73-ace7-3d1ab3ac6fa8"
      },
      "execution_count": 32,
      "outputs": [
        {
          "output_type": "stream",
          "name": "stderr",
          "text": [
            "DEBUG:my_logger:This is a debug message\n",
            "INFO:my_logger:This is an info message\n",
            "WARNING:my_logger:This is a warning message\n",
            "ERROR:my_logger:This is an error message\n",
            "CRITICAL:my_logger:This is a critical message\n"
          ]
        },
        {
          "output_type": "stream",
          "name": "stdout",
          "text": [
            "Logs are being written to 'app.log' with rotation after 1MB.\n"
          ]
        }
      ]
    },
    {
      "cell_type": "code",
      "source": [
        "#Q19) Write a program that handles both IndexError and KeyError using a try-except block.\n",
        "list=[1,2,3,4,5,6]\n",
        "dic={\"A\":[1,2,3,4],\n",
        "     \"B\":[5,6,7,8],\n",
        "     \"C\":[9,10,11,12]}\n",
        "try:\n",
        "  print(list[6])\n",
        "  print(dic[D])\n",
        "except IndexError:\n",
        "  print(\"The value exceeds the index range of list\")\n",
        "except KeyError:\n",
        "  print(\"The kEy does not exist in dictionary\")"
      ],
      "metadata": {
        "colab": {
          "base_uri": "https://localhost:8080/"
        },
        "id": "U2tjD9KYYeI3",
        "outputId": "8edc351c-e2f2-4b73-d969-9daadb901938"
      },
      "execution_count": 33,
      "outputs": [
        {
          "output_type": "stream",
          "name": "stdout",
          "text": [
            "The value exceeds the index range of list\n"
          ]
        }
      ]
    },
    {
      "cell_type": "code",
      "source": [
        "#Q20) How would you open a file and read its contents using a context manager in Python.\n",
        "#context manager>> with statement\n",
        "with open(\"Destination.txt\",\"r\") as f:\n",
        "  print(f.read())\n",
        "  f.close()"
      ],
      "metadata": {
        "colab": {
          "base_uri": "https://localhost:8080/"
        },
        "id": "Hz2axB0kZi_u",
        "outputId": "477ccb33-f298-4790-bd12-f12f00710a03"
      },
      "execution_count": 34,
      "outputs": [
        {
          "output_type": "stream",
          "name": "stdout",
          "text": [
            "This is my first line in file named Taha \n",
            "i am studying data science from PWskills\n"
          ]
        }
      ]
    },
    {
      "cell_type": "code",
      "source": [
        "#Q21) Write a Python program that reads a file and prints the number of occurrences of a specific word\n",
        "def count_word_occurrences(file_path, target_word):\n",
        "    try:\n",
        "        with open(file_path, 'r') as file:\n",
        "            content = file.read()\n",
        "            word_count = content.lower().split().count(target_word.lower())  # case-insensitive count\n",
        "            print(f\"The word '{target_word}' appears {word_count} times.\")\n",
        "    except FileNotFoundError:\n",
        "        print(f\"Error: The file '{file_path}' was not found.\")\n",
        "    except Exception as e:\n",
        "        print(f\"An error occurred: {e}\")\n",
        "file_path = 'Text.txt'  # Replace with your file path\n",
        "target_word = 'is'\n",
        "count_word_occurrences(file_path, target_word)\n"
      ],
      "metadata": {
        "colab": {
          "base_uri": "https://localhost:8080/"
        },
        "id": "CmnU2sGYaCO-",
        "outputId": "6152045d-95a7-40b7-adfb-ebace257f5bd"
      },
      "execution_count": 36,
      "outputs": [
        {
          "output_type": "stream",
          "name": "stdout",
          "text": [
            "The word 'is' appears 5 times.\n"
          ]
        }
      ]
    },
    {
      "cell_type": "code",
      "source": [
        "#Q22)  How can you check if a file is empty before attempting to read its contents.\n",
        "import os\n",
        "filename=\"List.txt\"\n",
        "if os.path.getsize==\"0\":\n",
        "  print(\"The file is empty\")\n",
        "else:\n",
        "  print(\"The file is not empty\")"
      ],
      "metadata": {
        "colab": {
          "base_uri": "https://localhost:8080/"
        },
        "id": "9e50y1g1acaf",
        "outputId": "80eac338-9930-4f8f-c832-6c15a1185b21"
      },
      "execution_count": 37,
      "outputs": [
        {
          "output_type": "stream",
          "name": "stdout",
          "text": [
            "The file is not empty\n"
          ]
        }
      ]
    },
    {
      "cell_type": "code",
      "source": [
        "#Q23) Write a Python program that writes to a log file when an error occurs during file handling\n",
        "import logging\n",
        "logging.basicConfig(filename=\"Log.log\",level=logging.DEBUG,format='%(message)s')\n",
        "try:\n",
        "  a=6\n",
        "  b=0\n",
        "  c=a/b\n",
        "except ZeroDivisionError:\n",
        "  logging.error(\"The denominator has a 0 value present\")"
      ],
      "metadata": {
        "colab": {
          "base_uri": "https://localhost:8080/"
        },
        "id": "aw5yBzxSa29f",
        "outputId": "40f30dd7-5fa1-41ba-c357-5fabc80466bc"
      },
      "execution_count": 38,
      "outputs": [
        {
          "output_type": "stream",
          "name": "stderr",
          "text": [
            "ERROR:root:The denominator has a 0 value present\n"
          ]
        }
      ]
    }
  ]
}